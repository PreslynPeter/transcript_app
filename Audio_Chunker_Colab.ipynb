# Install required packages
!pip install pydub google-colab-auth google-auth google-auth-oauthlib google-auth-httplib2 google-api-python-client
!apt-get update &> /dev/null
!apt-get install ffmpeg &> /dev/null

print("✅ All packages installed successfully!")# 🎵 Audio Chunker for Google Apps Script Transcription

This notebook processes long audio files, splits them into chunks, and uploads them to Google Drive for Apps Script to transcribe.

## 📋 What This Does:
1. **Upload** your long audio file to Colab
2. **Process** and split into 25-minute chunks
3. **Upload chunks** to Google Drive
4. **Generate** a folder ID for Apps Script
5. **Create** a ready-to-use Apps Script function

## 🚀 Setup Instructions:
1. Run all cells in order
2. Upload your audio file when prompted
3. Copy the generated folder ID
4. Use the folder ID in your Apps Script